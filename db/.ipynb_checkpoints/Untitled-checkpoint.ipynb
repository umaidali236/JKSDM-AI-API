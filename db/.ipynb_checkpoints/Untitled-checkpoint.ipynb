{
 "cells": [
  {
   "cell_type": "code",
   "execution_count": 1,
   "id": "ecf183a0",
   "metadata": {},
   "outputs": [],
   "source": [
    "import pandas as pd"
   ]
  },
  {
   "cell_type": "code",
   "execution_count": 2,
   "id": "10f66f69",
   "metadata": {},
   "outputs": [],
   "source": [
    "data = dict()"
   ]
  },
  {
   "cell_type": "code",
   "execution_count": 3,
   "id": "7a0f7252",
   "metadata": {},
   "outputs": [],
   "source": [
    "X = pd.ExcelFile(\"Sample question.xlsx\")"
   ]
  },
  {
   "cell_type": "code",
   "execution_count": 4,
   "id": "a801ba34",
   "metadata": {},
   "outputs": [
    {
     "name": "stdout",
     "output_type": "stream",
     "text": [
      "Sheets present: ['Notes', 'IT- ITES', 'Psychometric Evaluation', 'Automative', 'Banking and Insurance', 'AI'] : Number of sheets in API: 6\n"
     ]
    }
   ],
   "source": [
    "print(f\"Sheets present: {X.sheet_names} : Number of sheets in API: {len(X.sheet_names)}\")"
   ]
  },
  {
   "cell_type": "code",
   "execution_count": 5,
   "id": "64435841",
   "metadata": {},
   "outputs": [],
   "source": [
    "data['IT-ITes'] = pd.read_excel(\"Sample question.xlsx\", sheet_name=2)"
   ]
  },
  {
   "cell_type": "code",
   "execution_count": 6,
   "id": "147d6954",
   "metadata": {},
   "outputs": [],
   "source": [
    "data['Automotive'] = pd.read_excel(\"Sample question.xlsx\", sheet_name=3)"
   ]
  },
  {
   "cell_type": "code",
   "execution_count": 7,
   "id": "55eb769f",
   "metadata": {},
   "outputs": [],
   "source": [
    "data['Banking and Insurance'] = pd.read_excel(\"Sample question.xlsx\", sheet_name=4)"
   ]
  },
  {
   "cell_type": "code",
   "execution_count": 8,
   "id": "8782e053",
   "metadata": {},
   "outputs": [],
   "source": [
    "data['AI'] = pd.read_excel(\"Sample question.xlsx\", sheet_name=5)"
   ]
  },
  {
   "cell_type": "code",
   "execution_count": 9,
   "id": "cf0ecd0b",
   "metadata": {},
   "outputs": [],
   "source": [
    "question_pack = dict()"
   ]
  },
  {
   "cell_type": "code",
   "execution_count": 78,
   "id": "b2e50b61",
   "metadata": {},
   "outputs": [
    {
     "data": {
      "text/plain": [
       "(0    Which type of data is primarily used in Natura...\n",
       " 1    Which of the following can be considered an ex...\n",
       " 2    Which of the following statements best describ...\n",
       " 3    Which of the following options correctly defin...\n",
       " 4    Which of the following methods is used to expa...\n",
       " Name: Question Statement, dtype: object,\n",
       " 0                                       Visual data\\n\n",
       " 1                                  Weight of a person\n",
       " 2    It can only take on specific, separate values.\\n\n",
       " 3                     Generating data using sensors\\n\n",
       " 4                                     Data generation\n",
       " Name: Option 1, dtype: object)"
      ]
     },
     "execution_count": 78,
     "metadata": {},
     "output_type": "execute_result"
    }
   ],
   "source": [
    "data['AI']['Question Statement'], data['AI']['Option 1']"
   ]
  },
  {
   "cell_type": "code",
   "execution_count": 10,
   "id": "ee2a6280",
   "metadata": {},
   "outputs": [
    {
     "name": "stdout",
     "output_type": "stream",
     "text": [
      "Sectors: ['IT-ITes', 'Automotive', 'Banking and Insurance', 'AI'] : 4 total sectors added to API\n"
     ]
    }
   ],
   "source": [
    "keys = list(data.keys())\n",
    "print(f\"Sectors:\",keys, f\": {len(keys)} total sectors added to API\")"
   ]
  },
  {
   "cell_type": "code",
   "execution_count": 155,
   "id": "8e72ca9b",
   "metadata": {},
   "outputs": [
    {
     "name": "stderr",
     "output_type": "stream",
     "text": [
      "100%|███████████████████████████████████████████████████████████████████████████████████| 4/4 [00:00<00:00, 435.24it/s]\n"
     ]
    }
   ],
   "source": [
    "import time\n",
    "import random\n",
    "from tqdm import tqdm\n",
    "all_questions = []\n",
    "question_bank = dict()\n",
    "num_questions_needed = 3\n",
    "for key in tqdm(data.keys()):\n",
    "    question_bank['sector'] = str(key).strip()\n",
    "    question_bank['data'] = []\n",
    "    \n",
    "    for i in range(data[key].shape[0]):\n",
    "        question = data[key]['Question Statement'].iloc[i].strip()\n",
    "        question_difficulty = data[key]['Difficulty level'].iloc[i]\n",
    "        options = dict()\n",
    "        options['option1'] = str(data[key]['Option 1'].iloc[i]).strip()\n",
    "        options['option2'] = str(data[key]['Option 2'].iloc[i]).strip()\n",
    "        options['option3'] = str(data[key]['Option 3'].iloc[i]).strip()\n",
    "        options['option4'] = str(data[key]['Option 4'].iloc[i]).strip()\n",
    "        correct_option = data[key]['Correct Answer'].iloc[i]\n",
    "        prepared_question = prepare_question(key,i,question,['MCQ',4,question_difficulty],list(options.values()), correct_option)\n",
    "        question_bank['data'].append(prepared_question.copy())\n",
    "    random.shuffle(question_bank['data'])\n",
    "    question_bank['data'] = random.sample(question_bank['data'], num_questions_needed)\n",
    "    all_questions.append(question_bank.copy())\n",
    "    "
   ]
  },
  {
   "cell_type": "code",
   "execution_count": 156,
   "id": "bdaa7937",
   "metadata": {},
   "outputs": [
    {
     "data": {
      "text/plain": [
       "{'sector': 'Automotive',\n",
       " 'data': [{'question': {'id': 'Q/3/ID1723574364',\n",
       "    'statement': 'What is the primary function of an engine in an automobile?',\n",
       "    'params': {'type': 'MCQ', 'num_options': 4, 'difficulty': 'Intermediate'},\n",
       "    'correct_option': {'id': 'O/1/ID17235743641',\n",
       "     'statement': 'To convert chemical energy into mechanical energy for vehicular movement.'},\n",
       "    'options': [{'id': 'O/0/ID17235743640',\n",
       "      'statement': 'To convert mechanical energy into chemical energy for propulsion.'},\n",
       "     {'id': 'O/1/ID17235743641',\n",
       "      'statement': 'To convert chemical energy into mechanical energy for vehicular movement.'},\n",
       "     {'id': 'O/2/ID17235743642',\n",
       "      'statement': \"To provide cooling to the vehicle's components during operation.\"},\n",
       "     {'id': 'O/3/ID17235743643',\n",
       "      'statement': 'To generate electrical energy for the vehicle’s systems.'}]}},\n",
       "  {'question': {'id': 'Q/4/ID1723574364',\n",
       "    'statement': 'Which of the following statements best differentiates between internal combustion (IC) and external combustion engines?',\n",
       "    'params': {'type': 'MCQ', 'num_options': 4, 'difficulty': 'Complex'},\n",
       "    'correct_option': {'id': 'O/0/ID17235743640',\n",
       "     'statement': 'IC engines burn fuel inside the engine to produce power, whereas external combustion engines burn fuel outside the engine.'},\n",
       "    'options': [{'id': 'O/0/ID17235743640',\n",
       "      'statement': 'IC engines burn fuel inside the engine to produce power, whereas external combustion engines burn fuel outside the engine.'},\n",
       "     {'id': 'O/1/ID17235743641',\n",
       "      'statement': 'IC engines convert mechanical energy directly into heat energy, whereas external combustion engines require a spark to ignite the fuel.'},\n",
       "     {'id': 'O/2/ID17235743642',\n",
       "      'statement': 'IC engines are powered by electricity, while external combustion engines are powered by fossil fuels.'},\n",
       "     {'id': 'O/3/ID17235743643',\n",
       "      'statement': 'IC engines ignite fuel outside the engine, whereas external combustion engines ignite fuel inside the engine.'}]}},\n",
       "  {'question': {'id': 'Q/1/ID1723574364',\n",
       "    'statement': 'Which of the following components is NOT typically included in the chassis of a commercial vehicle, such as a truck or bus?',\n",
       "    'params': {'type': 'MCQ', 'num_options': 4, 'difficulty': 'Easy'},\n",
       "    'correct_option': {'id': 'O/3/ID17235743643', 'statement': 'Body'},\n",
       "    'options': [{'id': 'O/0/ID17235743640', 'statement': 'Steel frame'},\n",
       "     {'id': 'O/1/ID17235743641', 'statement': 'Engine'},\n",
       "     {'id': 'O/2/ID17235743642', 'statement': 'Transmission System'},\n",
       "     {'id': 'O/3/ID17235743643', 'statement': 'Body'}]}}]}"
      ]
     },
     "execution_count": 156,
     "metadata": {},
     "output_type": "execute_result"
    }
   ],
   "source": [
    "all_questions[1]"
   ]
  },
  {
   "cell_type": "code",
   "execution_count": 98,
   "id": "927451e0",
   "metadata": {},
   "outputs": [
    {
     "data": {
      "text/plain": [
       "[{'sector': 'AI',\n",
       "  'data': [{'question': {'id': 'Q/0/ID1723573096',\n",
       "     'statement': 'Which type of data is primarily used in Natural Language Processing (NLP)?',\n",
       "     'params': {'type': 'MCQ', 'num_options': 4},\n",
       "     'correct_option': {'id': 'O/2/ID17235730962',\n",
       "      'statement': 'Textual data'},\n",
       "     'options': [{'id': 'O/0/ID17235730960', 'statement': 'Audio data'},\n",
       "      {'id': 'O/1/ID17235730961', 'statement': 'Visual data'},\n",
       "      {'id': 'O/2/ID17235730962', 'statement': 'Textual data'},\n",
       "      {'id': 'O/3/ID17235730963', 'statement': 'Numeric data'}]}},\n",
       "   {'question': {'id': 'Q/1/ID1723573096',\n",
       "     'statement': 'Which of the following can be considered an example of discrete numeric data?',\n",
       "     'params': {'type': 'MCQ', 'num_options': 4},\n",
       "     'correct_option': {'id': 'O/0/ID17235730960',\n",
       "      'statement': 'Number of attendees at a conference'},\n",
       "     'options': [{'id': 'O/0/ID17235730960',\n",
       "       'statement': 'Number of attendees at a conference'},\n",
       "      {'id': 'O/1/ID17235730961', 'statement': 'Height of a building'},\n",
       "      {'id': 'O/2/ID17235730962', 'statement': 'Temperature of a room'},\n",
       "      {'id': 'O/3/ID17235730963', 'statement': 'Weight of a person'}]}},\n",
       "   {'question': {'id': 'Q/2/ID1723573096',\n",
       "     'statement': 'Which of the following statements best describes continuous data?',\n",
       "     'params': {'type': 'MCQ', 'num_options': 4},\n",
       "     'correct_option': {'id': 'O/3/ID17235730963',\n",
       "      'statement': 'It can take on an infinite number of values within a given range.'},\n",
       "     'options': [{'id': 'O/0/ID17235730960',\n",
       "       'statement': 'It is represented using words and sentences.'},\n",
       "      {'id': 'O/1/ID17235730961',\n",
       "       'statement': 'It can only take on specific, separate values.'},\n",
       "      {'id': 'O/2/ID17235730962',\n",
       "       'statement': 'It is used for counts and distinct values.'},\n",
       "      {'id': 'O/3/ID17235730963',\n",
       "       'statement': 'It can take on an infinite number of values within a given range.'}]}},\n",
       "   {'question': {'id': 'Q/3/ID1723573096',\n",
       "     'statement': 'Which of the following options correctly defines the meaning of web scraping?',\n",
       "     'params': {'type': 'MCQ', 'num_options': 4},\n",
       "     'correct_option': {'id': 'O/2/ID17235730962',\n",
       "      'statement': 'Collecting data from websites using software'},\n",
       "     'options': [{'id': 'O/0/ID17235730960',\n",
       "       'statement': 'Generating data using sensors'},\n",
       "      {'id': 'O/1/ID17235730961',\n",
       "       'statement': 'Storing recorded data in a database'},\n",
       "      {'id': 'O/2/ID17235730962',\n",
       "       'statement': 'Collecting data from websites using software'},\n",
       "      {'id': 'O/3/ID17235730963',\n",
       "       'statement': 'Changing parameters like colour in existing data'}]}},\n",
       "   {'question': {'id': 'Q/4/ID1723573096',\n",
       "     'statement': 'Which of the following methods is used to expand the volume of existing data?',\n",
       "     'params': {'type': 'MCQ', 'num_options': 4},\n",
       "     'correct_option': {'id': 'O/2/ID17235730962',\n",
       "      'statement': 'Data augmentation'},\n",
       "     'options': [{'id': 'O/0/ID17235730960', 'statement': 'Data discovery'},\n",
       "      {'id': 'O/1/ID17235730961', 'statement': 'Data storage'},\n",
       "      {'id': 'O/2/ID17235730962', 'statement': 'Data augmentation'},\n",
       "      {'id': 'O/3/ID17235730963', 'statement': 'Data generation'}]}}]},\n",
       " {'sector': 'AI',\n",
       "  'data': [{'question': {'id': 'Q/0/ID1723573096',\n",
       "     'statement': 'Which type of data is primarily used in Natural Language Processing (NLP)?',\n",
       "     'params': {'type': 'MCQ', 'num_options': 4},\n",
       "     'correct_option': {'id': 'O/2/ID17235730962',\n",
       "      'statement': 'Textual data'},\n",
       "     'options': [{'id': 'O/0/ID17235730960', 'statement': 'Audio data'},\n",
       "      {'id': 'O/1/ID17235730961', 'statement': 'Visual data'},\n",
       "      {'id': 'O/2/ID17235730962', 'statement': 'Textual data'},\n",
       "      {'id': 'O/3/ID17235730963', 'statement': 'Numeric data'}]}},\n",
       "   {'question': {'id': 'Q/1/ID1723573096',\n",
       "     'statement': 'Which of the following can be considered an example of discrete numeric data?',\n",
       "     'params': {'type': 'MCQ', 'num_options': 4},\n",
       "     'correct_option': {'id': 'O/0/ID17235730960',\n",
       "      'statement': 'Number of attendees at a conference'},\n",
       "     'options': [{'id': 'O/0/ID17235730960',\n",
       "       'statement': 'Number of attendees at a conference'},\n",
       "      {'id': 'O/1/ID17235730961', 'statement': 'Height of a building'},\n",
       "      {'id': 'O/2/ID17235730962', 'statement': 'Temperature of a room'},\n",
       "      {'id': 'O/3/ID17235730963', 'statement': 'Weight of a person'}]}},\n",
       "   {'question': {'id': 'Q/2/ID1723573096',\n",
       "     'statement': 'Which of the following statements best describes continuous data?',\n",
       "     'params': {'type': 'MCQ', 'num_options': 4},\n",
       "     'correct_option': {'id': 'O/3/ID17235730963',\n",
       "      'statement': 'It can take on an infinite number of values within a given range.'},\n",
       "     'options': [{'id': 'O/0/ID17235730960',\n",
       "       'statement': 'It is represented using words and sentences.'},\n",
       "      {'id': 'O/1/ID17235730961',\n",
       "       'statement': 'It can only take on specific, separate values.'},\n",
       "      {'id': 'O/2/ID17235730962',\n",
       "       'statement': 'It is used for counts and distinct values.'},\n",
       "      {'id': 'O/3/ID17235730963',\n",
       "       'statement': 'It can take on an infinite number of values within a given range.'}]}},\n",
       "   {'question': {'id': 'Q/3/ID1723573096',\n",
       "     'statement': 'Which of the following options correctly defines the meaning of web scraping?',\n",
       "     'params': {'type': 'MCQ', 'num_options': 4},\n",
       "     'correct_option': {'id': 'O/2/ID17235730962',\n",
       "      'statement': 'Collecting data from websites using software'},\n",
       "     'options': [{'id': 'O/0/ID17235730960',\n",
       "       'statement': 'Generating data using sensors'},\n",
       "      {'id': 'O/1/ID17235730961',\n",
       "       'statement': 'Storing recorded data in a database'},\n",
       "      {'id': 'O/2/ID17235730962',\n",
       "       'statement': 'Collecting data from websites using software'},\n",
       "      {'id': 'O/3/ID17235730963',\n",
       "       'statement': 'Changing parameters like colour in existing data'}]}},\n",
       "   {'question': {'id': 'Q/4/ID1723573096',\n",
       "     'statement': 'Which of the following methods is used to expand the volume of existing data?',\n",
       "     'params': {'type': 'MCQ', 'num_options': 4},\n",
       "     'correct_option': {'id': 'O/2/ID17235730962',\n",
       "      'statement': 'Data augmentation'},\n",
       "     'options': [{'id': 'O/0/ID17235730960', 'statement': 'Data discovery'},\n",
       "      {'id': 'O/1/ID17235730961', 'statement': 'Data storage'},\n",
       "      {'id': 'O/2/ID17235730962', 'statement': 'Data augmentation'},\n",
       "      {'id': 'O/3/ID17235730963', 'statement': 'Data generation'}]}}]},\n",
       " {'sector': 'AI',\n",
       "  'data': [{'question': {'id': 'Q/0/ID1723573096',\n",
       "     'statement': 'Which type of data is primarily used in Natural Language Processing (NLP)?',\n",
       "     'params': {'type': 'MCQ', 'num_options': 4},\n",
       "     'correct_option': {'id': 'O/2/ID17235730962',\n",
       "      'statement': 'Textual data'},\n",
       "     'options': [{'id': 'O/0/ID17235730960', 'statement': 'Audio data'},\n",
       "      {'id': 'O/1/ID17235730961', 'statement': 'Visual data'},\n",
       "      {'id': 'O/2/ID17235730962', 'statement': 'Textual data'},\n",
       "      {'id': 'O/3/ID17235730963', 'statement': 'Numeric data'}]}},\n",
       "   {'question': {'id': 'Q/1/ID1723573096',\n",
       "     'statement': 'Which of the following can be considered an example of discrete numeric data?',\n",
       "     'params': {'type': 'MCQ', 'num_options': 4},\n",
       "     'correct_option': {'id': 'O/0/ID17235730960',\n",
       "      'statement': 'Number of attendees at a conference'},\n",
       "     'options': [{'id': 'O/0/ID17235730960',\n",
       "       'statement': 'Number of attendees at a conference'},\n",
       "      {'id': 'O/1/ID17235730961', 'statement': 'Height of a building'},\n",
       "      {'id': 'O/2/ID17235730962', 'statement': 'Temperature of a room'},\n",
       "      {'id': 'O/3/ID17235730963', 'statement': 'Weight of a person'}]}},\n",
       "   {'question': {'id': 'Q/2/ID1723573096',\n",
       "     'statement': 'Which of the following statements best describes continuous data?',\n",
       "     'params': {'type': 'MCQ', 'num_options': 4},\n",
       "     'correct_option': {'id': 'O/3/ID17235730963',\n",
       "      'statement': 'It can take on an infinite number of values within a given range.'},\n",
       "     'options': [{'id': 'O/0/ID17235730960',\n",
       "       'statement': 'It is represented using words and sentences.'},\n",
       "      {'id': 'O/1/ID17235730961',\n",
       "       'statement': 'It can only take on specific, separate values.'},\n",
       "      {'id': 'O/2/ID17235730962',\n",
       "       'statement': 'It is used for counts and distinct values.'},\n",
       "      {'id': 'O/3/ID17235730963',\n",
       "       'statement': 'It can take on an infinite number of values within a given range.'}]}},\n",
       "   {'question': {'id': 'Q/3/ID1723573096',\n",
       "     'statement': 'Which of the following options correctly defines the meaning of web scraping?',\n",
       "     'params': {'type': 'MCQ', 'num_options': 4},\n",
       "     'correct_option': {'id': 'O/2/ID17235730962',\n",
       "      'statement': 'Collecting data from websites using software'},\n",
       "     'options': [{'id': 'O/0/ID17235730960',\n",
       "       'statement': 'Generating data using sensors'},\n",
       "      {'id': 'O/1/ID17235730961',\n",
       "       'statement': 'Storing recorded data in a database'},\n",
       "      {'id': 'O/2/ID17235730962',\n",
       "       'statement': 'Collecting data from websites using software'},\n",
       "      {'id': 'O/3/ID17235730963',\n",
       "       'statement': 'Changing parameters like colour in existing data'}]}},\n",
       "   {'question': {'id': 'Q/4/ID1723573096',\n",
       "     'statement': 'Which of the following methods is used to expand the volume of existing data?',\n",
       "     'params': {'type': 'MCQ', 'num_options': 4},\n",
       "     'correct_option': {'id': 'O/2/ID17235730962',\n",
       "      'statement': 'Data augmentation'},\n",
       "     'options': [{'id': 'O/0/ID17235730960', 'statement': 'Data discovery'},\n",
       "      {'id': 'O/1/ID17235730961', 'statement': 'Data storage'},\n",
       "      {'id': 'O/2/ID17235730962', 'statement': 'Data augmentation'},\n",
       "      {'id': 'O/3/ID17235730963', 'statement': 'Data generation'}]}}]},\n",
       " {'sector': 'AI',\n",
       "  'data': [{'question': {'id': 'Q/0/ID1723573096',\n",
       "     'statement': 'Which type of data is primarily used in Natural Language Processing (NLP)?',\n",
       "     'params': {'type': 'MCQ', 'num_options': 4},\n",
       "     'correct_option': {'id': 'O/2/ID17235730962',\n",
       "      'statement': 'Textual data'},\n",
       "     'options': [{'id': 'O/0/ID17235730960', 'statement': 'Audio data'},\n",
       "      {'id': 'O/1/ID17235730961', 'statement': 'Visual data'},\n",
       "      {'id': 'O/2/ID17235730962', 'statement': 'Textual data'},\n",
       "      {'id': 'O/3/ID17235730963', 'statement': 'Numeric data'}]}},\n",
       "   {'question': {'id': 'Q/1/ID1723573096',\n",
       "     'statement': 'Which of the following can be considered an example of discrete numeric data?',\n",
       "     'params': {'type': 'MCQ', 'num_options': 4},\n",
       "     'correct_option': {'id': 'O/0/ID17235730960',\n",
       "      'statement': 'Number of attendees at a conference'},\n",
       "     'options': [{'id': 'O/0/ID17235730960',\n",
       "       'statement': 'Number of attendees at a conference'},\n",
       "      {'id': 'O/1/ID17235730961', 'statement': 'Height of a building'},\n",
       "      {'id': 'O/2/ID17235730962', 'statement': 'Temperature of a room'},\n",
       "      {'id': 'O/3/ID17235730963', 'statement': 'Weight of a person'}]}},\n",
       "   {'question': {'id': 'Q/2/ID1723573096',\n",
       "     'statement': 'Which of the following statements best describes continuous data?',\n",
       "     'params': {'type': 'MCQ', 'num_options': 4},\n",
       "     'correct_option': {'id': 'O/3/ID17235730963',\n",
       "      'statement': 'It can take on an infinite number of values within a given range.'},\n",
       "     'options': [{'id': 'O/0/ID17235730960',\n",
       "       'statement': 'It is represented using words and sentences.'},\n",
       "      {'id': 'O/1/ID17235730961',\n",
       "       'statement': 'It can only take on specific, separate values.'},\n",
       "      {'id': 'O/2/ID17235730962',\n",
       "       'statement': 'It is used for counts and distinct values.'},\n",
       "      {'id': 'O/3/ID17235730963',\n",
       "       'statement': 'It can take on an infinite number of values within a given range.'}]}},\n",
       "   {'question': {'id': 'Q/3/ID1723573096',\n",
       "     'statement': 'Which of the following options correctly defines the meaning of web scraping?',\n",
       "     'params': {'type': 'MCQ', 'num_options': 4},\n",
       "     'correct_option': {'id': 'O/2/ID17235730962',\n",
       "      'statement': 'Collecting data from websites using software'},\n",
       "     'options': [{'id': 'O/0/ID17235730960',\n",
       "       'statement': 'Generating data using sensors'},\n",
       "      {'id': 'O/1/ID17235730961',\n",
       "       'statement': 'Storing recorded data in a database'},\n",
       "      {'id': 'O/2/ID17235730962',\n",
       "       'statement': 'Collecting data from websites using software'},\n",
       "      {'id': 'O/3/ID17235730963',\n",
       "       'statement': 'Changing parameters like colour in existing data'}]}},\n",
       "   {'question': {'id': 'Q/4/ID1723573096',\n",
       "     'statement': 'Which of the following methods is used to expand the volume of existing data?',\n",
       "     'params': {'type': 'MCQ', 'num_options': 4},\n",
       "     'correct_option': {'id': 'O/2/ID17235730962',\n",
       "      'statement': 'Data augmentation'},\n",
       "     'options': [{'id': 'O/0/ID17235730960', 'statement': 'Data discovery'},\n",
       "      {'id': 'O/1/ID17235730961', 'statement': 'Data storage'},\n",
       "      {'id': 'O/2/ID17235730962', 'statement': 'Data augmentation'},\n",
       "      {'id': 'O/3/ID17235730963', 'statement': 'Data generation'}]}}]}]"
      ]
     },
     "execution_count": 98,
     "metadata": {},
     "output_type": "execute_result"
    }
   ],
   "source": [
    "GGG"
   ]
  },
  {
   "cell_type": "markdown",
   "id": "995b99a2",
   "metadata": {},
   "source": [
    "#### all_questions"
   ]
  },
  {
   "cell_type": "code",
   "execution_count": 74,
   "id": "4b62c9ea",
   "metadata": {},
   "outputs": [
    {
     "data": {
      "text/plain": [
       "'[{\"sector\": \"AI\", \"data\": [{\"question\": {\"id\": \"Q/0/ID1723572766\", \"statement\": \"Which type of data is primarily used in Natural Language Processing (NLP)?\", \"params\": {\"type\": \"MCQ\", \"num_options\": 4}, \"correct_option\": {\"id\": \"O/0/ID17235727660\", \"statement\": \"Textual data\"}, \"options\": [{\"id\": \"O/0/ID17235727660\", \"statement\": \"Textual data\"}, {\"id\": \"O/1/ID17235727661\", \"statement\": \"Numeric data\"}, {\"id\": \"O/2/ID17235727662\", \"statement\": \"Audio data\"}, {\"id\": \"O/3/ID17235727663\", \"statement\": \"Visual data\"}]}}, {\"question\": {\"id\": \"Q/1/ID1723572766\", \"statement\": \"Which of the following can be considered an example of discrete numeric data?\", \"params\": {\"type\": \"MCQ\", \"num_options\": 4}, \"correct_option\": {\"id\": \"O/3/ID17235727663\", \"statement\": \"Number of attendees at a conference\"}, \"options\": [{\"id\": \"O/0/ID17235727660\", \"statement\": \"Temperature of a room\"}, {\"id\": \"O/1/ID17235727661\", \"statement\": \"Weight of a person\"}, {\"id\": \"O/2/ID17235727662\", \"statement\": \"Height of a building\"}, {\"id\": \"O/3/ID17235727663\", \"statement\": \"Number of attendees at a conference\"}]}}, {\"question\": {\"id\": \"Q/2/ID1723572766\", \"statement\": \"Which of the following statements best describes continuous data?\", \"params\": {\"type\": \"MCQ\", \"num_options\": 4}, \"correct_option\": {\"id\": \"O/2/ID17235727662\", \"statement\": \"It can take on an infinite number of values within a given range.\"}, \"options\": [{\"id\": \"O/0/ID17235727660\", \"statement\": \"It is represented using words and sentences.\"}, {\"id\": \"O/1/ID17235727661\", \"statement\": \"It can only take on specific, separate values.\"}, {\"id\": \"O/2/ID17235727662\", \"statement\": \"It can take on an infinite number of values within a given range.\"}, {\"id\": \"O/3/ID17235727663\", \"statement\": \"It is used for counts and distinct values.\"}]}}, {\"question\": {\"id\": \"Q/3/ID1723572766\", \"statement\": \"Which of the following options correctly defines the meaning of web scraping?\", \"params\": {\"type\": \"MCQ\", \"num_options\": 4}, \"correct_option\": {\"id\": \"O/2/ID17235727662\", \"statement\": \"Collecting data from websites using software\"}, \"options\": [{\"id\": \"O/0/ID17235727660\", \"statement\": \"Changing parameters like colour in existing data\"}, {\"id\": \"O/1/ID17235727661\", \"statement\": \"Storing recorded data in a database\"}, {\"id\": \"O/2/ID17235727662\", \"statement\": \"Collecting data from websites using software\"}, {\"id\": \"O/3/ID17235727663\", \"statement\": \"Generating data using sensors\"}]}}, {\"question\": {\"id\": \"Q/4/ID1723572766\", \"statement\": \"Which of the following methods is used to expand the volume of existing data?\", \"params\": {\"type\": \"MCQ\", \"num_options\": 4}, \"correct_option\": {\"id\": \"O/3/ID17235727663\", \"statement\": \"Data augmentation\"}, \"options\": [{\"id\": \"O/0/ID17235727660\", \"statement\": \"Data generation\"}, {\"id\": \"O/1/ID17235727661\", \"statement\": \"Data discovery\"}, {\"id\": \"O/2/ID17235727662\", \"statement\": \"Data storage\"}, {\"id\": \"O/3/ID17235727663\", \"statement\": \"Data augmentation\"}]}}]}, {\"sector\": \"AI\", \"data\": [{\"question\": {\"id\": \"Q/0/ID1723572766\", \"statement\": \"Which type of data is primarily used in Natural Language Processing (NLP)?\", \"params\": {\"type\": \"MCQ\", \"num_options\": 4}, \"correct_option\": {\"id\": \"O/0/ID17235727660\", \"statement\": \"Textual data\"}, \"options\": [{\"id\": \"O/0/ID17235727660\", \"statement\": \"Textual data\"}, {\"id\": \"O/1/ID17235727661\", \"statement\": \"Numeric data\"}, {\"id\": \"O/2/ID17235727662\", \"statement\": \"Audio data\"}, {\"id\": \"O/3/ID17235727663\", \"statement\": \"Visual data\"}]}}, {\"question\": {\"id\": \"Q/1/ID1723572766\", \"statement\": \"Which of the following can be considered an example of discrete numeric data?\", \"params\": {\"type\": \"MCQ\", \"num_options\": 4}, \"correct_option\": {\"id\": \"O/3/ID17235727663\", \"statement\": \"Number of attendees at a conference\"}, \"options\": [{\"id\": \"O/0/ID17235727660\", \"statement\": \"Temperature of a room\"}, {\"id\": \"O/1/ID17235727661\", \"statement\": \"Weight of a person\"}, {\"id\": \"O/2/ID17235727662\", \"statement\": \"Height of a building\"}, {\"id\": \"O/3/ID17235727663\", \"statement\": \"Number of attendees at a conference\"}]}}, {\"question\": {\"id\": \"Q/2/ID1723572766\", \"statement\": \"Which of the following statements best describes continuous data?\", \"params\": {\"type\": \"MCQ\", \"num_options\": 4}, \"correct_option\": {\"id\": \"O/2/ID17235727662\", \"statement\": \"It can take on an infinite number of values within a given range.\"}, \"options\": [{\"id\": \"O/0/ID17235727660\", \"statement\": \"It is represented using words and sentences.\"}, {\"id\": \"O/1/ID17235727661\", \"statement\": \"It can only take on specific, separate values.\"}, {\"id\": \"O/2/ID17235727662\", \"statement\": \"It can take on an infinite number of values within a given range.\"}, {\"id\": \"O/3/ID17235727663\", \"statement\": \"It is used for counts and distinct values.\"}]}}, {\"question\": {\"id\": \"Q/3/ID1723572766\", \"statement\": \"Which of the following options correctly defines the meaning of web scraping?\", \"params\": {\"type\": \"MCQ\", \"num_options\": 4}, \"correct_option\": {\"id\": \"O/2/ID17235727662\", \"statement\": \"Collecting data from websites using software\"}, \"options\": [{\"id\": \"O/0/ID17235727660\", \"statement\": \"Changing parameters like colour in existing data\"}, {\"id\": \"O/1/ID17235727661\", \"statement\": \"Storing recorded data in a database\"}, {\"id\": \"O/2/ID17235727662\", \"statement\": \"Collecting data from websites using software\"}, {\"id\": \"O/3/ID17235727663\", \"statement\": \"Generating data using sensors\"}]}}, {\"question\": {\"id\": \"Q/4/ID1723572766\", \"statement\": \"Which of the following methods is used to expand the volume of existing data?\", \"params\": {\"type\": \"MCQ\", \"num_options\": 4}, \"correct_option\": {\"id\": \"O/3/ID17235727663\", \"statement\": \"Data augmentation\"}, \"options\": [{\"id\": \"O/0/ID17235727660\", \"statement\": \"Data generation\"}, {\"id\": \"O/1/ID17235727661\", \"statement\": \"Data discovery\"}, {\"id\": \"O/2/ID17235727662\", \"statement\": \"Data storage\"}, {\"id\": \"O/3/ID17235727663\", \"statement\": \"Data augmentation\"}]}}]}, {\"sector\": \"AI\", \"data\": [{\"question\": {\"id\": \"Q/0/ID1723572766\", \"statement\": \"Which type of data is primarily used in Natural Language Processing (NLP)?\", \"params\": {\"type\": \"MCQ\", \"num_options\": 4}, \"correct_option\": {\"id\": \"O/0/ID17235727660\", \"statement\": \"Textual data\"}, \"options\": [{\"id\": \"O/0/ID17235727660\", \"statement\": \"Textual data\"}, {\"id\": \"O/1/ID17235727661\", \"statement\": \"Numeric data\"}, {\"id\": \"O/2/ID17235727662\", \"statement\": \"Audio data\"}, {\"id\": \"O/3/ID17235727663\", \"statement\": \"Visual data\"}]}}, {\"question\": {\"id\": \"Q/1/ID1723572766\", \"statement\": \"Which of the following can be considered an example of discrete numeric data?\", \"params\": {\"type\": \"MCQ\", \"num_options\": 4}, \"correct_option\": {\"id\": \"O/3/ID17235727663\", \"statement\": \"Number of attendees at a conference\"}, \"options\": [{\"id\": \"O/0/ID17235727660\", \"statement\": \"Temperature of a room\"}, {\"id\": \"O/1/ID17235727661\", \"statement\": \"Weight of a person\"}, {\"id\": \"O/2/ID17235727662\", \"statement\": \"Height of a building\"}, {\"id\": \"O/3/ID17235727663\", \"statement\": \"Number of attendees at a conference\"}]}}, {\"question\": {\"id\": \"Q/2/ID1723572766\", \"statement\": \"Which of the following statements best describes continuous data?\", \"params\": {\"type\": \"MCQ\", \"num_options\": 4}, \"correct_option\": {\"id\": \"O/2/ID17235727662\", \"statement\": \"It can take on an infinite number of values within a given range.\"}, \"options\": [{\"id\": \"O/0/ID17235727660\", \"statement\": \"It is represented using words and sentences.\"}, {\"id\": \"O/1/ID17235727661\", \"statement\": \"It can only take on specific, separate values.\"}, {\"id\": \"O/2/ID17235727662\", \"statement\": \"It can take on an infinite number of values within a given range.\"}, {\"id\": \"O/3/ID17235727663\", \"statement\": \"It is used for counts and distinct values.\"}]}}, {\"question\": {\"id\": \"Q/3/ID1723572766\", \"statement\": \"Which of the following options correctly defines the meaning of web scraping?\", \"params\": {\"type\": \"MCQ\", \"num_options\": 4}, \"correct_option\": {\"id\": \"O/2/ID17235727662\", \"statement\": \"Collecting data from websites using software\"}, \"options\": [{\"id\": \"O/0/ID17235727660\", \"statement\": \"Changing parameters like colour in existing data\"}, {\"id\": \"O/1/ID17235727661\", \"statement\": \"Storing recorded data in a database\"}, {\"id\": \"O/2/ID17235727662\", \"statement\": \"Collecting data from websites using software\"}, {\"id\": \"O/3/ID17235727663\", \"statement\": \"Generating data using sensors\"}]}}, {\"question\": {\"id\": \"Q/4/ID1723572766\", \"statement\": \"Which of the following methods is used to expand the volume of existing data?\", \"params\": {\"type\": \"MCQ\", \"num_options\": 4}, \"correct_option\": {\"id\": \"O/3/ID17235727663\", \"statement\": \"Data augmentation\"}, \"options\": [{\"id\": \"O/0/ID17235727660\", \"statement\": \"Data generation\"}, {\"id\": \"O/1/ID17235727661\", \"statement\": \"Data discovery\"}, {\"id\": \"O/2/ID17235727662\", \"statement\": \"Data storage\"}, {\"id\": \"O/3/ID17235727663\", \"statement\": \"Data augmentation\"}]}}]}, {\"sector\": \"AI\", \"data\": [{\"question\": {\"id\": \"Q/0/ID1723572766\", \"statement\": \"Which type of data is primarily used in Natural Language Processing (NLP)?\", \"params\": {\"type\": \"MCQ\", \"num_options\": 4}, \"correct_option\": {\"id\": \"O/0/ID17235727660\", \"statement\": \"Textual data\"}, \"options\": [{\"id\": \"O/0/ID17235727660\", \"statement\": \"Textual data\"}, {\"id\": \"O/1/ID17235727661\", \"statement\": \"Numeric data\"}, {\"id\": \"O/2/ID17235727662\", \"statement\": \"Audio data\"}, {\"id\": \"O/3/ID17235727663\", \"statement\": \"Visual data\"}]}}, {\"question\": {\"id\": \"Q/1/ID1723572766\", \"statement\": \"Which of the following can be considered an example of discrete numeric data?\", \"params\": {\"type\": \"MCQ\", \"num_options\": 4}, \"correct_option\": {\"id\": \"O/3/ID17235727663\", \"statement\": \"Number of attendees at a conference\"}, \"options\": [{\"id\": \"O/0/ID17235727660\", \"statement\": \"Temperature of a room\"}, {\"id\": \"O/1/ID17235727661\", \"statement\": \"Weight of a person\"}, {\"id\": \"O/2/ID17235727662\", \"statement\": \"Height of a building\"}, {\"id\": \"O/3/ID17235727663\", \"statement\": \"Number of attendees at a conference\"}]}}, {\"question\": {\"id\": \"Q/2/ID1723572766\", \"statement\": \"Which of the following statements best describes continuous data?\", \"params\": {\"type\": \"MCQ\", \"num_options\": 4}, \"correct_option\": {\"id\": \"O/2/ID17235727662\", \"statement\": \"It can take on an infinite number of values within a given range.\"}, \"options\": [{\"id\": \"O/0/ID17235727660\", \"statement\": \"It is represented using words and sentences.\"}, {\"id\": \"O/1/ID17235727661\", \"statement\": \"It can only take on specific, separate values.\"}, {\"id\": \"O/2/ID17235727662\", \"statement\": \"It can take on an infinite number of values within a given range.\"}, {\"id\": \"O/3/ID17235727663\", \"statement\": \"It is used for counts and distinct values.\"}]}}, {\"question\": {\"id\": \"Q/3/ID1723572766\", \"statement\": \"Which of the following options correctly defines the meaning of web scraping?\", \"params\": {\"type\": \"MCQ\", \"num_options\": 4}, \"correct_option\": {\"id\": \"O/2/ID17235727662\", \"statement\": \"Collecting data from websites using software\"}, \"options\": [{\"id\": \"O/0/ID17235727660\", \"statement\": \"Changing parameters like colour in existing data\"}, {\"id\": \"O/1/ID17235727661\", \"statement\": \"Storing recorded data in a database\"}, {\"id\": \"O/2/ID17235727662\", \"statement\": \"Collecting data from websites using software\"}, {\"id\": \"O/3/ID17235727663\", \"statement\": \"Generating data using sensors\"}]}}, {\"question\": {\"id\": \"Q/4/ID1723572766\", \"statement\": \"Which of the following methods is used to expand the volume of existing data?\", \"params\": {\"type\": \"MCQ\", \"num_options\": 4}, \"correct_option\": {\"id\": \"O/3/ID17235727663\", \"statement\": \"Data augmentation\"}, \"options\": [{\"id\": \"O/0/ID17235727660\", \"statement\": \"Data generation\"}, {\"id\": \"O/1/ID17235727661\", \"statement\": \"Data discovery\"}, {\"id\": \"O/2/ID17235727662\", \"statement\": \"Data storage\"}, {\"id\": \"O/3/ID17235727663\", \"statement\": \"Data augmentation\"}]}}]}]'"
      ]
     },
     "execution_count": 74,
     "metadata": {},
     "output_type": "execute_result"
    }
   ],
   "source": [
    "import json\n",
    "json.dumps(all_questions)"
   ]
  },
  {
   "cell_type": "code",
   "execution_count": 75,
   "id": "adb8db5e",
   "metadata": {},
   "outputs": [
    {
     "data": {
      "text/plain": [
       "{'sector': 'AI',\n",
       " 'data': [{'question': {'id': 'Q/0/ID1723572766',\n",
       "    'statement': 'Which type of data is primarily used in Natural Language Processing (NLP)?',\n",
       "    'params': {'type': 'MCQ', 'num_options': 4},\n",
       "    'correct_option': {'id': 'O/0/ID17235727660', 'statement': 'Textual data'},\n",
       "    'options': [{'id': 'O/0/ID17235727660', 'statement': 'Textual data'},\n",
       "     {'id': 'O/1/ID17235727661', 'statement': 'Numeric data'},\n",
       "     {'id': 'O/2/ID17235727662', 'statement': 'Audio data'},\n",
       "     {'id': 'O/3/ID17235727663', 'statement': 'Visual data'}]}},\n",
       "  {'question': {'id': 'Q/1/ID1723572766',\n",
       "    'statement': 'Which of the following can be considered an example of discrete numeric data?',\n",
       "    'params': {'type': 'MCQ', 'num_options': 4},\n",
       "    'correct_option': {'id': 'O/3/ID17235727663',\n",
       "     'statement': 'Number of attendees at a conference'},\n",
       "    'options': [{'id': 'O/0/ID17235727660',\n",
       "      'statement': 'Temperature of a room'},\n",
       "     {'id': 'O/1/ID17235727661', 'statement': 'Weight of a person'},\n",
       "     {'id': 'O/2/ID17235727662', 'statement': 'Height of a building'},\n",
       "     {'id': 'O/3/ID17235727663',\n",
       "      'statement': 'Number of attendees at a conference'}]}},\n",
       "  {'question': {'id': 'Q/2/ID1723572766',\n",
       "    'statement': 'Which of the following statements best describes continuous data?',\n",
       "    'params': {'type': 'MCQ', 'num_options': 4},\n",
       "    'correct_option': {'id': 'O/2/ID17235727662',\n",
       "     'statement': 'It can take on an infinite number of values within a given range.'},\n",
       "    'options': [{'id': 'O/0/ID17235727660',\n",
       "      'statement': 'It is represented using words and sentences.'},\n",
       "     {'id': 'O/1/ID17235727661',\n",
       "      'statement': 'It can only take on specific, separate values.'},\n",
       "     {'id': 'O/2/ID17235727662',\n",
       "      'statement': 'It can take on an infinite number of values within a given range.'},\n",
       "     {'id': 'O/3/ID17235727663',\n",
       "      'statement': 'It is used for counts and distinct values.'}]}},\n",
       "  {'question': {'id': 'Q/3/ID1723572766',\n",
       "    'statement': 'Which of the following options correctly defines the meaning of web scraping?',\n",
       "    'params': {'type': 'MCQ', 'num_options': 4},\n",
       "    'correct_option': {'id': 'O/2/ID17235727662',\n",
       "     'statement': 'Collecting data from websites using software'},\n",
       "    'options': [{'id': 'O/0/ID17235727660',\n",
       "      'statement': 'Changing parameters like colour in existing data'},\n",
       "     {'id': 'O/1/ID17235727661',\n",
       "      'statement': 'Storing recorded data in a database'},\n",
       "     {'id': 'O/2/ID17235727662',\n",
       "      'statement': 'Collecting data from websites using software'},\n",
       "     {'id': 'O/3/ID17235727663',\n",
       "      'statement': 'Generating data using sensors'}]}},\n",
       "  {'question': {'id': 'Q/4/ID1723572766',\n",
       "    'statement': 'Which of the following methods is used to expand the volume of existing data?',\n",
       "    'params': {'type': 'MCQ', 'num_options': 4},\n",
       "    'correct_option': {'id': 'O/3/ID17235727663',\n",
       "     'statement': 'Data augmentation'},\n",
       "    'options': [{'id': 'O/0/ID17235727660', 'statement': 'Data generation'},\n",
       "     {'id': 'O/1/ID17235727661', 'statement': 'Data discovery'},\n",
       "     {'id': 'O/2/ID17235727662', 'statement': 'Data storage'},\n",
       "     {'id': 'O/3/ID17235727663', 'statement': 'Data augmentation'}]}}]}"
      ]
     },
     "execution_count": 75,
     "metadata": {},
     "output_type": "execute_result"
    }
   ],
   "source": [
    "all_questions[1]"
   ]
  },
  {
   "cell_type": "code",
   "execution_count": 12,
   "id": "a7f6105e",
   "metadata": {},
   "outputs": [],
   "source": [
    "import time\n",
    "import random"
   ]
  },
  {
   "cell_type": "code",
   "execution_count": 114,
   "id": "6fffd9fc",
   "metadata": {},
   "outputs": [],
   "source": [
    "from random import sample\n",
    "def prepare_question(sector, qn_number, question_statement, question_params, options_list, correct_option_value):\n",
    "    question=dict()\n",
    "    question['question'] = dict()\n",
    "    question['question']['id'] = 'Q/'+str(qn_number)+'/ID'+str(time.time()).split(\".\")[0] \n",
    "    question['question']['statement'] = question_statement\n",
    "    question['question']['params'] = dict()\n",
    "    question['question']['params']['type'] = question_params[0]\n",
    "    question['question']['params']['num_options'] = question_params[1]\n",
    "    question['question']['params']['difficulty'] = question_params[2]\n",
    "    question['question']['correct_option'] = dict()\n",
    "    random.shuffle(options_list)\n",
    "    question['question']['options'] = []\n",
    "    \n",
    "    for i in range(len(options_list)):\n",
    "        opt = dict()\n",
    "        opt['id'] = 'O/'+str(i)+'/ID'+str(time.time()).split(\".\")[0]+str(i)\n",
    "        opt['statement'] = options_list[i]\n",
    "        question['question']['options'].append(opt)\n",
    "        \n",
    "        if str(correct_option_value).upper().strip() == str(options_list[i]).upper().strip():\n",
    "            question['question']['correct_option']['id'] = opt['id']\n",
    "            question['question']['correct_option']['statement'] = correct_option_value\n",
    "    return question\n",
    "    "
   ]
  },
  {
   "cell_type": "code",
   "execution_count": 115,
   "id": "72d91bcd",
   "metadata": {},
   "outputs": [],
   "source": [
    "from random import sample\n",
    "def prepare_question_old(sector, qn_number, question_statement, question_params, options_list, correct_option_value):\n",
    "    question=dict()\n",
    "    question['question'] = dict()\n",
    "    question['question']['id'] = 'Q/'+str(qn_number)+'/ID'+str(time.time()).split(\".\")[0] \n",
    "    question['question']['statement'] = question_statement\n",
    "    question['question']['params'] = dict()\n",
    "    question['question']['params']['type'] = question_params[0]\n",
    "    question['question']['params']['num_options'] = question_params[1]\n",
    "    question['question']['params']['difficulty'] = question_params[2]\n",
    "  \n",
    "    question['question']['options'] = dict()\n",
    "    question['question']['options']['correct_option'] = dict()\n",
    "    \n",
    "    random.shuffle(options_list)\n",
    "    \n",
    "    for i in range(len(options_list)):\n",
    "        question['question']['options']['option'+str(i+1)] = dict()\n",
    "        question['question']['options']['option'+str(i+1)]['id'] = 'O/'+str(i)+'/ID'+str(time.time()).split(\".\")[0]+str(i)\n",
    "        question['question']['options']['option'+str(i+1)]['statement'] = options_list[i]\n",
    "        \n",
    "        #print(str(correct_option_value).upper()==str(options_list[i]).upper() )\n",
    "        \n",
    "        if str(correct_option_value).upper().strip() == str(options_list[i]).upper().strip():\n",
    "            question['question']['options']['correct_option']['id'] =question['question']['options']['option'+str(i+1)]['id'] \n",
    "            question['question']['options']['correct_option']['statement'] = correct_option_value\n",
    "    return question\n",
    "    "
   ]
  },
  {
   "cell_type": "code",
   "execution_count": null,
   "id": "9e97c616",
   "metadata": {},
   "outputs": [],
   "source": []
  },
  {
   "cell_type": "code",
   "execution_count": null,
   "id": "cd159813",
   "metadata": {},
   "outputs": [],
   "source": []
  },
  {
   "cell_type": "code",
   "execution_count": null,
   "id": "6d4f9203",
   "metadata": {},
   "outputs": [],
   "source": []
  },
  {
   "cell_type": "code",
   "execution_count": 47,
   "id": "3377ce97",
   "metadata": {},
   "outputs": [],
   "source": [
    "#X['question']['options'][0]"
   ]
  },
  {
   "cell_type": "code",
   "execution_count": null,
   "id": "62e7e238",
   "metadata": {},
   "outputs": [],
   "source": [
    "'question_bank:\n",
    "{\n",
    "    sector:'IT-ITes',\n",
    "    data: \n",
    "        {question:\n",
    "             {'id':'XXX', \n",
    "              'statement':'XXX',\n",
    "              'params':{'type':'mcq', 'num_options':4}\n",
    "             options:\n",
    "                 {'id':'XXX', \n",
    "              'statement':'XXX'\n",
    "             },\n",
    "             {'id':'XXX', \n",
    "              'statement':'XXX'\n",
    "             }\n",
    "         \n",
    "    }"
   ]
  },
  {
   "cell_type": "code",
   "execution_count": null,
   "id": "d9279552",
   "metadata": {},
   "outputs": [],
   "source": []
  },
  {
   "cell_type": "code",
   "execution_count": null,
   "id": "7038d576",
   "metadata": {},
   "outputs": [],
   "source": []
  },
  {
   "cell_type": "code",
   "execution_count": null,
   "id": "ddcdbf90",
   "metadata": {},
   "outputs": [],
   "source": []
  }
 ],
 "metadata": {
  "kernelspec": {
   "display_name": "Python 3 (ipykernel)",
   "language": "python",
   "name": "python3"
  },
  "language_info": {
   "codemirror_mode": {
    "name": "ipython",
    "version": 3
   },
   "file_extension": ".py",
   "mimetype": "text/x-python",
   "name": "python",
   "nbconvert_exporter": "python",
   "pygments_lexer": "ipython3",
   "version": "3.8.17"
  }
 },
 "nbformat": 4,
 "nbformat_minor": 5
}
