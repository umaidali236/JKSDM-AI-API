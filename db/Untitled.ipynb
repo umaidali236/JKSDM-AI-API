{
 "cells": [
  {
   "cell_type": "code",
   "execution_count": 1,
   "id": "ccded8d6",
   "metadata": {},
   "outputs": [],
   "source": [
    "import xml.etree.ElementTree as ET"
   ]
  },
  {
   "cell_type": "code",
   "execution_count": 14,
   "id": "1027920b",
   "metadata": {},
   "outputs": [],
   "source": [
    "root = ET.parse('all_courses.xml')"
   ]
  },
  {
   "cell_type": "code",
   "execution_count": 19,
   "id": "0a2c0b74",
   "metadata": {},
   "outputs": [],
   "source": [
    "courses = dict()"
   ]
  },
  {
   "cell_type": "code",
   "execution_count": 28,
   "id": "6669c6c3",
   "metadata": {},
   "outputs": [
    {
     "name": "stdout",
     "output_type": "stream",
     "text": [
      "Hi\n",
      "Hi\n",
      "Hi\n",
      "Hi\n",
      "Hi\n",
      "Hi\n",
      "Hi\n",
      "Hi\n",
      "Hi\n",
      "Hi\n",
      "Hi\n",
      "Hi\n",
      "Hi\n",
      "Hi\n",
      "Hi\n",
      "Hi\n",
      "Hi\n",
      "Hi\n",
      "Hi\n",
      "Hi\n",
      "Hi\n",
      "Hi\n",
      "Hi\n",
      "Hi\n",
      "Hi\n",
      "Hi\n",
      "Hi\n",
      "Hi\n",
      "Hi\n",
      "Hi\n",
      "Hi\n",
      "Hi\n",
      "Hi\n",
      "Hi\n",
      "Hi\n",
      "Hi\n"
     ]
    }
   ],
   "source": [
    "for i, item in enumerate(root.findall('course')):\n",
    "    courses[i] = dict()\n",
    "    if item.tag == \"course\": \n",
    "        for node in item:\n",
    "            courses[i]['course_id'] = node.find('id').text\n",
    "            courses[i]['course_level'] = node.find('level').text            \n",
    "            courses[i]['course_name'] = node.find('name').text            \n",
    "            courses[i]['description']= node.find('description').text\n",
    "            courses[i]['parent'] = node.find('parent').text\n",
    "            courses[i]['children'] = dict()\n",
    "            if not int(courses[i]['course_level'][1:]) == 100:\n",
    "                for children in node.find('children'):\n",
    "                    for j, child in enumerate(children.findall('child')):\n",
    "                        child_type = child.find('child_type').text\n",
    "                        child_name = child.find('child_name').text\n",
    "                        courses[i]['children'][j] = {'child_type':child_type, 'child_name':child_name}\n",
    "            \n",
    "            if int(courses[i]['course_level'][1:]) == 100:  #leaf node\n",
    "                courses[i]['duration'] =  node.find('duration').text\n",
    "                courses[i]['sector'] =  node.find('sector').text\n",
    "                courses[i]['offline'] =  node.find('offline').text\n",
    "                \n",
    "                \n",
    "                \n",
    "                \n",
    "            \n",
    "            \n",
    "            \n",
    "            \n",
    "            "
   ]
  },
  {
   "cell_type": "code",
   "execution_count": null,
   "id": "7274540d",
   "metadata": {},
   "outputs": [],
   "source": []
  }
 ],
 "metadata": {
  "kernelspec": {
   "display_name": "Python 3 (ipykernel)",
   "language": "python",
   "name": "python3"
  },
  "language_info": {
   "codemirror_mode": {
    "name": "ipython",
    "version": 3
   },
   "file_extension": ".py",
   "mimetype": "text/x-python",
   "name": "python",
   "nbconvert_exporter": "python",
   "pygments_lexer": "ipython3",
   "version": "3.8.17"
  }
 },
 "nbformat": 4,
 "nbformat_minor": 5
}
